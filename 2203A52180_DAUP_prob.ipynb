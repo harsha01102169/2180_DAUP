{
  "nbformat": 4,
  "nbformat_minor": 0,
  "metadata": {
    "colab": {
      "provenance": []
    },
    "kernelspec": {
      "name": "python3",
      "display_name": "Python 3"
    },
    "language_info": {
      "name": "python"
    }
  },
  "cells": [
    {
      "cell_type": "code",
      "execution_count": null,
      "metadata": {
        "colab": {
          "base_uri": "https://localhost:8080/"
        },
        "id": "6ppXx0NtVJOH",
        "outputId": "986ba2bd-f522-4fc1-c46c-e5ac792c4112"
      },
      "outputs": [
        {
          "output_type": "stream",
          "name": "stdout",
          "text": [
            "Dataset extracted to: /content/Supermarket_Sales\n"
          ]
        }
      ],
      "source": [
        "import zipfile\n",
        "import os\n",
        "\n",
        "zip_file_path = \"/content/drive/MyDrive/Supermarket_Sales.zip\"\n",
        "extract_to_folder = \"/content/Supermarket_Sales\"\n",
        "\n",
        "with zipfile.ZipFile(zip_file_path, 'r') as zip_ref:\n",
        "    zip_ref.extractall(extract_to_folder)\n",
        "\n",
        "print(f\"Dataset extracted to: {os.path.abspath(extract_to_folder)}\")\n"
      ]
    },
    {
      "cell_type": "code",
      "source": [
        "import pandas as pd\n",
        "\n",
        "df = pd.read_csv(\"/content/Supermarket_Sales/supermarket_sales -.csv\")\n"
      ],
      "metadata": {
        "id": "YoxzS3cJXBa6"
      },
      "execution_count": null,
      "outputs": []
    },
    {
      "cell_type": "code",
      "source": [
        "\n",
        "print(df.head())\n"
      ],
      "metadata": {
        "colab": {
          "base_uri": "https://localhost:8080/"
        },
        "id": "8PhLXdi7XDLX",
        "outputId": "7f34284c-7a22-4d6e-ce78-c4503d448b2f"
      },
      "execution_count": null,
      "outputs": [
        {
          "output_type": "stream",
          "name": "stdout",
          "text": [
            "    Invoice ID Branch       City Customer type  Gender  \\\n",
            "0  750-67-8428      A     Yangon        Member  Female   \n",
            "1  226-31-3081      C  Naypyitaw        Normal  Female   \n",
            "2  631-41-3108      A     Yangon        Normal    Male   \n",
            "3  123-19-1176      A     Yangon        Member    Male   \n",
            "4  373-73-7910      A     Yangon        Normal    Male   \n",
            "\n",
            "             Product line  Unit price  Quantity   Tax 5%     Total       Date  \\\n",
            "0       Health and beauty       74.69         7  26.1415  548.9715   1/5/2019   \n",
            "1  Electronic accessories       15.28         5   3.8200   80.2200   3/8/2019   \n",
            "2      Home and lifestyle       46.33         7  16.2155  340.5255   3/3/2019   \n",
            "3       Health and beauty       58.22         8  23.2880  489.0480  1/27/2019   \n",
            "4       Sports and travel       86.31         7  30.2085  634.3785   2/8/2019   \n",
            "\n",
            "    Time      Payment    cogs  gross margin percentage  gross income  Rating  \n",
            "0  13:08      Ewallet  522.83                 4.761905       26.1415     9.1  \n",
            "1  10:29         Cash   76.40                 4.761905        3.8200     9.6  \n",
            "2  13:23  Credit card  324.31                 4.761905       16.2155     7.4  \n",
            "3  20:33      Ewallet  465.76                 4.761905       23.2880     8.4  \n",
            "4  10:37      Ewallet  604.17                 4.761905       30.2085     5.3  \n"
          ]
        }
      ]
    },
    {
      "cell_type": "code",
      "source": [
        "total_transactions = len(df)\n"
      ],
      "metadata": {
        "id": "op4gYK4YXEzF"
      },
      "execution_count": null,
      "outputs": []
    },
    {
      "cell_type": "code",
      "source": [
        "A = df[df[\"Customer type\"] == \"Member\"]\n"
      ],
      "metadata": {
        "id": "C_pBA7VJXGOR"
      },
      "execution_count": null,
      "outputs": []
    },
    {
      "cell_type": "code",
      "source": [
        "B = df[df[\"Payment\"] == \"Credit card\"]\n"
      ],
      "metadata": {
        "id": "9u7VLarXXH6k"
      },
      "execution_count": null,
      "outputs": []
    },
    {
      "cell_type": "code",
      "source": [
        "\n",
        "P_A = len(A) / total_transactions\n",
        "P_B = len(B) / total_transactions\n",
        "P_A_intersection_B = len(df[(df[\"Customer type\"] == \"Member\") & (df[\"Payment\"] == \"Credit card\")]) / total_transactions\n",
        "P_A_union_B = P_A + P_B - P_A_intersection_B\n",
        "P_A_given_B = P_A_intersection_B / P_B\n"
      ],
      "metadata": {
        "id": "wcm4rUJkXJfH"
      },
      "execution_count": null,
      "outputs": []
    },
    {
      "cell_type": "code",
      "source": [
        "print(f\"P(A): {P_A:.4f}\")\n",
        "print(f\"P(B): {P_B:.4f}\")\n",
        "print(f\"P(A ∪ B): {P_A_union_B:.4f}\")\n",
        "print(f\"P(A ∩ B): {P_A_intersection_B:.4f}\")\n",
        "print(f\"P(A | B): {P_A_given_B:.4f}\")"
      ],
      "metadata": {
        "colab": {
          "base_uri": "https://localhost:8080/"
        },
        "id": "D0KMNck2XMFF",
        "outputId": "42237a16-ea91-4883-f65b-194f0c8a32c2"
      },
      "execution_count": null,
      "outputs": [
        {
          "output_type": "stream",
          "name": "stdout",
          "text": [
            "P(A): 0.5010\n",
            "P(B): 0.3110\n",
            "P(A ∪ B): 0.6400\n",
            "P(A ∩ B): 0.1720\n",
            "P(A | B): 0.5531\n"
          ]
        }
      ]
    },
    {
      "cell_type": "code",
      "source": [
        "P_health_beauty = len(df[df[\"Product line\"] == \"Health and beauty\"]) / total_transactions\n",
        "print(f\"P(Health & Beauty): {P_health_beauty:.4f}\")\n"
      ],
      "metadata": {
        "colab": {
          "base_uri": "https://localhost:8080/"
        },
        "id": "YHPpCKoPXN44",
        "outputId": "eda1143e-6688-428e-b82a-66ae29f49f81"
      },
      "execution_count": null,
      "outputs": [
        {
          "output_type": "stream",
          "name": "stdout",
          "text": [
            "P(Health & Beauty): 0.1520\n"
          ]
        }
      ]
    },
    {
      "cell_type": "code",
      "source": [
        "Ewallet_transactions = df[df[\"Payment\"] == \"Ewallet\"]\n",
        "P_more_than_5_given_Ewallet = len(Ewallet_transactions[Ewallet_transactions[\"Quantity\"] > 5]) / len(Ewallet_transactions)\n",
        "print(f\"P(Quantity > 5 | Ewallet): {P_more_than_5_given_Ewallet:.4f}\")\n"
      ],
      "metadata": {
        "colab": {
          "base_uri": "https://localhost:8080/"
        },
        "id": "9xzSRJQFXPfc",
        "outputId": "c28e4cb9-2744-49fa-8f3b-451b0e49ef07"
      },
      "execution_count": null,
      "outputs": [
        {
          "output_type": "stream",
          "name": "stdout",
          "text": [
            "P(Quantity > 5 | Ewallet): 0.4870\n"
          ]
        }
      ]
    },
    {
      "cell_type": "code",
      "source": [
        "Yangon_transactions = df[df[\"City\"] == \"Yangon\"]\n",
        "P_cash_given_Yangon = len(Yangon_transactions[Yangon_transactions[\"Payment\"] == \"Cash\"]) / len(Yangon_transactions)\n",
        "print(f\"P(Cash | Yangon): {P_cash_given_Yangon:.4f}\")\n"
      ],
      "metadata": {
        "colab": {
          "base_uri": "https://localhost:8080/"
        },
        "id": "hJEWx1UvXRYJ",
        "outputId": "fe5392cb-c29e-4690-b476-dd42e7e1dd5a"
      },
      "execution_count": null,
      "outputs": [
        {
          "output_type": "stream",
          "name": "stdout",
          "text": [
            "P(Cash | Yangon): 0.3235\n"
          ]
        }
      ]
    },
    {
      "cell_type": "code",
      "source": [
        "\n",
        "P_member_high_rating = len(df[(df[\"Customer type\"] == \"Member\") & (df[\"Rating\"] > 8)]) / total_transactions\n",
        "print(f\"P(Member and Rating > 8): {P_member_high_rating:.4f}\")\n"
      ],
      "metadata": {
        "colab": {
          "base_uri": "https://localhost:8080/"
        },
        "id": "vBSp1GRxVXps",
        "outputId": "3f96b7a8-d0d4-484a-f279-03ec533591d7"
      },
      "execution_count": null,
      "outputs": [
        {
          "output_type": "stream",
          "name": "stdout",
          "text": [
            "P(Member and Rating > 8): 0.1570\n"
          ]
        }
      ]
    },
    {
      "cell_type": "code",
      "source": [
        "import math\n",
        "import pandas as pd\n",
        "\n",
        "df = pd.read_csv(\"/content/Supermarket_Sales/supermarket_sales -.csv\")\n"
      ],
      "metadata": {
        "id": "sUwZiNeLXT6I"
      },
      "execution_count": null,
      "outputs": []
    },
    {
      "cell_type": "code",
      "source": [
        "def factorial(n):\n",
        "    return math.factorial(n)"
      ],
      "metadata": {
        "id": "6FaIPsXhXWj4"
      },
      "execution_count": null,
      "outputs": []
    },
    {
      "cell_type": "code",
      "source": [
        "def permutation(n, r):\n",
        "    return math.factorial(n) // math.factorial(n - r)\n"
      ],
      "metadata": {
        "id": "xqM023qYXZrO"
      },
      "execution_count": null,
      "outputs": []
    },
    {
      "cell_type": "code",
      "source": [
        "def combination(n, r):\n",
        "    return math.factorial(n) // (math.factorial(r) * math.factorial(n - r))\n"
      ],
      "metadata": {
        "id": "H0MJcX2QXcpD"
      },
      "execution_count": null,
      "outputs": []
    },
    {
      "cell_type": "code",
      "source": [
        "P_5_from_20 = permutation(20, 5)\n",
        "print(f\"Permutations (P(20,5)): {P_5_from_20}\")\n"
      ],
      "metadata": {
        "colab": {
          "base_uri": "https://localhost:8080/"
        },
        "id": "NaGrfva5Xe0G",
        "outputId": "091dc47d-f957-4514-df3a-df9171ca7adb"
      },
      "execution_count": null,
      "outputs": [
        {
          "output_type": "stream",
          "name": "stdout",
          "text": [
            "Permutations (P(20,5)): 1860480\n"
          ]
        }
      ]
    },
    {
      "cell_type": "code",
      "source": [
        "unique_product_lines = df[\"Product line\"].nunique()\n",
        "C_3_from_6 = combination(unique_product_lines, 3)\n",
        "print(f\"Combinations (C(6,3)): {C_3_from_6}\")\n"
      ],
      "metadata": {
        "colab": {
          "base_uri": "https://localhost:8080/"
        },
        "id": "mgoJAp0mXhYj",
        "outputId": "73667f87-7d99-4a2a-d6d2-905de22c6876"
      },
      "execution_count": null,
      "outputs": [
        {
          "output_type": "stream",
          "name": "stdout",
          "text": [
            "Combinations (C(6,3)): 20\n"
          ]
        }
      ]
    },
    {
      "cell_type": "code",
      "source": [
        "unique_branches = df[\"Branch\"].nunique()\n",
        "factorial_branches = factorial(unique_branches)\n",
        "print(f\"Factorial of branches ({unique_branches}!): {factorial_branches}\")\n"
      ],
      "metadata": {
        "colab": {
          "base_uri": "https://localhost:8080/"
        },
        "id": "R70_Vh5zXjvD",
        "outputId": "f881f055-102f-48d4-f45a-c3fd70621c8b"
      },
      "execution_count": null,
      "outputs": [
        {
          "output_type": "stream",
          "name": "stdout",
          "text": [
            "Factorial of branches (3!): 6\n"
          ]
        }
      ]
    },
    {
      "cell_type": "code",
      "source": [
        "payment_methods = df[\"Payment\"].nunique()\n",
        "if payment_methods < 4:\n",
        "    print(\"Cannot select 4 payment methods from only 3 available types.\")\n",
        "else:\n",
        "    P_4_from_3 = permutation(payment_methods, 4)\n",
        "    print(f\"Permutations (P(3,4)): {P_4_from_3}\")\n"
      ],
      "metadata": {
        "colab": {
          "base_uri": "https://localhost:8080/"
        },
        "id": "FuUjipYvXmFr",
        "outputId": "e274f7e2-4253-4d64-acf1-8bbf258a6882"
      },
      "execution_count": null,
      "outputs": [
        {
          "output_type": "stream",
          "name": "stdout",
          "text": [
            "Cannot select 4 payment methods from only 3 available types.\n"
          ]
        }
      ]
    },
    {
      "cell_type": "code",
      "source": [
        "C_5_from_15 = combination(15, 5)\n",
        "print(f\"Combinations (C(15,5)): {C_5_from_15}\")\n"
      ],
      "metadata": {
        "colab": {
          "base_uri": "https://localhost:8080/"
        },
        "id": "XStfiz6YXrEd",
        "outputId": "ae71b017-0cec-4dc9-b6d3-a603704764a2"
      },
      "execution_count": null,
      "outputs": [
        {
          "output_type": "stream",
          "name": "stdout",
          "text": [
            "Combinations (C(15,5)): 3003\n"
          ]
        }
      ]
    },
    {
      "cell_type": "code",
      "source": [
        "P_6_from_26 = permutation(26, 6)\n",
        "print(f\"Permutations (P(26,6)): {P_6_from_26}\")\n"
      ],
      "metadata": {
        "colab": {
          "base_uri": "https://localhost:8080/"
        },
        "id": "S496rjViVxJL",
        "outputId": "69cdc55e-2629-4a80-bb1e-01191a78eb92"
      },
      "execution_count": null,
      "outputs": [
        {
          "output_type": "stream",
          "name": "stdout",
          "text": [
            "Permutations (P(26,6)): 165765600\n"
          ]
        }
      ]
    },
    {
      "cell_type": "code",
      "source": [],
      "metadata": {
        "id": "-zjG8DnLWOp9"
      },
      "execution_count": null,
      "outputs": []
    }
  ]
}